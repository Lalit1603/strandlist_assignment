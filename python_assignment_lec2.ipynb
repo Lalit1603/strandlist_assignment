{
 "cells": [
  {
   "cell_type": "raw",
   "id": "51870108-78a0-410c-ba0e-58446eee35af",
   "metadata": {},
   "source": [
    " 1. Write a program to reverse a string.\n",
    " 2. Check if a string is a palindrome.\n",
    " 3. Convert a string to uppercase.\n",
    " 4.  Convert a string to lowercase.\n",
    " 5. Count the number of vowels in a string.\n",
    " 6. Count the number of consonants in a string.\n",
    " 7. Remove all whitespaces from a string.\n",
    " 8. Find the length of a string without using the `len()` function.\n",
    " 9. Check if a string contains a specific word.\n",
    " 10. Replace a word in a string with another word.\n",
    " 11. Count the occurrences of a word in a string.\n",
    " 12. Find the first occurrence of a word in a string.\n",
    " 13. Find the last occurrence of a word in a string.\n",
    " 14. Split a string into a list of words.\n",
    " 15. Join a list of words into a string.\n",
    " 16. Convert a string where words are separated by spaces to one where words are separated by underscores.\n",
    " 17. Check if a string starts with a specific word or phrase.\n",
    " 18. Check if a string ends with a specific word or phrase.\n",
    " 19. Convert a string to title case (e.g., \"hello world\" to \"Hello World\").\n",
    " 20. Find the longest word in a string.\n",
    " 21. Find the shortest word in a string.\n",
    " 22. Reverse the order of words in a string.\n",
    " 23. Check if a string is alphanumeric.\n",
    " 24. Extract all digits from a string.\n",
    " 25. Extract all alphabets from a string.\n",
    " 26. Count the number of uppercase letters in a string.\n",
    " 27. Count the number of lowercase letters in a string.\n",
    " 28. Swap the case of each character in a string.\n",
    " 29. Remove a specific word from a string.\n",
    " 30. Check if a string is a valid email address.\n",
    " 31. Extract the username from an email address string.\n",
    " 32. Extract the domain name from an email address string.\n",
    " 33. Replace multiple spaces in a string with a single space.\n",
    " 34. Check if a string is a valid URL.\n",
    " 35. Extract the protocol (http or https) from a URL string.\n",
    " 36. Find the frequency of each character in a string.\n",
    " 37. Remove all punctuation from a string.\n",
    " 38. Check if a string contains only digits.\n",
    " 39. Check if a string contains only alphabets.\n",
    " 40. Convert a string to a list of characters.\n",
    " 41. Check if two strings are anagrams.\n",
    " 42. Encode a string using a Caesar cipher.\n",
    " 43. Decode a Caesar cipher encoded string.\n",
    " 44. Find the most frequent word in a string.\n",
    " 45. Find all unique words in a string.\n",
    " 46. Count the number of syllables in a string.\n",
    " 47. Check if a string contains any special characters.\n",
    " 48. Remove the nth word from a string.\n",
    " 49. Insert a word at the nth position in a string.\n",
    " 50. Convert a CSV string to a list of lists.\n"
   ]
  },
  {
   "cell_type": "code",
   "execution_count": 3,
   "id": "27fcda19-b9dd-4aaf-b93e-5d0601bedfc3",
   "metadata": {},
   "outputs": [
    {
     "name": "stdin",
     "output_type": "stream",
     "text": [
      "Enter any String:- Lalit\n"
     ]
    },
    {
     "name": "stdout",
     "output_type": "stream",
     "text": [
      "Reverse String is:- tilaL\n"
     ]
    }
   ],
   "source": [
    "#1.Write a program to reverse a string.\n",
    "string=input(\"Enter any String:-\")\n",
    "print(\"Reverse String is:-\",string[::-1])"
   ]
  },
  {
   "cell_type": "code",
   "execution_count": 9,
   "id": "99dc99e3-4770-452f-bf94-12480a46bd11",
   "metadata": {},
   "outputs": [
    {
     "name": "stdin",
     "output_type": "stream",
     "text": [
      "Enter any String:- racecar\n"
     ]
    },
    {
     "name": "stdout",
     "output_type": "stream",
     "text": [
      "The Given String is Palindrome\n"
     ]
    }
   ],
   "source": [
    "#2.Check if a string is a palindrome.\n",
    "s1=input(\"Enter any String:-\")\n",
    "if s1[::]==s1[::-1]:\n",
    "    print(\"The Given String is Palindrome\")\n",
    "else:\n",
    "    print(\"The Given String is not Palindrome\")\n"
   ]
  },
  {
   "cell_type": "code",
   "execution_count": 10,
   "id": "9b7600b4-df31-45de-81ad-df3ceb04abba",
   "metadata": {},
   "outputs": [
    {
     "name": "stdin",
     "output_type": "stream",
     "text": [
      "Enter any String:- lalit\n"
     ]
    },
    {
     "name": "stdout",
     "output_type": "stream",
     "text": [
      "LALIT\n"
     ]
    }
   ],
   "source": [
    "#3.Convert the string into uppercase\n",
    "s1=input(\"Enter any String:-\")\n",
    "print(s1.upper())"
   ]
  },
  {
   "cell_type": "code",
   "execution_count": 11,
   "id": "3a095b17-35c1-4fc7-a463-ee9c8b81bac8",
   "metadata": {},
   "outputs": [],
   "source": [
    "#4.Convert a string to lowercase."
   ]
  },
  {
   "cell_type": "code",
   "execution_count": 12,
   "id": "7ab45ca6-c9b3-4d14-9e27-373c22862d73",
   "metadata": {},
   "outputs": [
    {
     "name": "stdin",
     "output_type": "stream",
     "text": [
      "Enter any String:- LALIT\n"
     ]
    },
    {
     "name": "stdout",
     "output_type": "stream",
     "text": [
      "lalit\n"
     ]
    }
   ],
   "source": [
    "s1=input(\"Enter any String:-\")\n",
    "print(s1.lower())"
   ]
  },
  {
   "cell_type": "code",
   "execution_count": 13,
   "id": "730eb689-0bfb-41c0-9033-05c7748b0a85",
   "metadata": {},
   "outputs": [],
   "source": [
    "#5. Count the number of vowels in a string."
   ]
  },
  {
   "cell_type": "code",
   "execution_count": 20,
   "id": "f63de88d-83ee-46a7-abff-c58b487a6564",
   "metadata": {},
   "outputs": [
    {
     "name": "stdin",
     "output_type": "stream",
     "text": [
      "Enter a sentence:  lalit\n"
     ]
    },
    {
     "name": "stdout",
     "output_type": "stream",
     "text": [
      "Number of vowels in the sentence: 2\n"
     ]
    }
   ],
   "source": [
    "def count_vowels(sentence):\n",
    "    vowels = \"aeiouAEIOU\"\n",
    "    vowel_count = 0\n",
    "\n",
    "    for char in sentence:\n",
    "        if char in vowels:\n",
    "            vowel_count += 1\n",
    "\n",
    "    return vowel_count\n",
    "\n",
    "\n",
    "user_sentence = input(\"Enter a sentence: \")\n",
    "\n",
    "\n",
    "result = count_vowels(user_sentence)\n",
    "print(\"Number of vowels in the sentence:\",result)\n"
   ]
  },
  {
   "cell_type": "code",
   "execution_count": 24,
   "id": "346f9bc0-9b16-46bf-8179-417f7ff1590f",
   "metadata": {},
   "outputs": [
    {
     "name": "stdin",
     "output_type": "stream",
     "text": [
      "Enter any String:- lalit\n"
     ]
    },
    {
     "name": "stdout",
     "output_type": "stream",
     "text": [
      "Numbeer of vowel in the sentence: 3\n"
     ]
    }
   ],
   "source": [
    "# 6. Count the number of consonants in a string.\n",
    "def count_consonants(string):\n",
    "    consonants = \"bcdfghjklmnpqrstvwxyzBCDFGHJKLMNPQRSTVWXYZ\"\n",
    "    consonant_count=0\n",
    "    \n",
    "    for char in string:\n",
    "        if char in consonants:\n",
    "            consonant_count+=1\n",
    "        \n",
    "    return consonant_count\n",
    "\n",
    "string=input(\"Enter any String:-\")\n",
    "\n",
    "result=count_consonants(string)\n",
    "print(\"Numbeer of vowel in the sentence:\",result)\n"
   ]
  },
  {
   "cell_type": "code",
   "execution_count": 26,
   "id": "817b15a0-7de3-45dd-a804-b1cdb8125cce",
   "metadata": {},
   "outputs": [],
   "source": [
    "# 7. Remove all whitespaces from a string."
   ]
  },
  {
   "cell_type": "code",
   "execution_count": 35,
   "id": "6df1a616-d219-42c3-8ec2-ea892023c50a",
   "metadata": {},
   "outputs": [
    {
     "name": "stdout",
     "output_type": "stream",
     "text": [
      "lalit\n"
     ]
    }
   ],
   "source": [
    "s1=\"   lalit    \"\n",
    "print(s1.strip())\n"
   ]
  },
  {
   "cell_type": "code",
   "execution_count": 39,
   "id": "8fad5fa2-aa95-4e77-be94-51b5b5184c77",
   "metadata": {},
   "outputs": [
    {
     "name": "stdin",
     "output_type": "stream",
     "text": [
      "Enter any string lalit\n"
     ]
    },
    {
     "name": "stdout",
     "output_type": "stream",
     "text": [
      "The length of String 5\n"
     ]
    }
   ],
   "source": [
    " #8. Find the length of a string without using the `len()` function.\n",
    "def cal_length(s):\n",
    "    count=0\n",
    "    for char in s:\n",
    "        count+=1\n",
    "    return count\n",
    "s=input(\"Enter any string\")\n",
    "result=cal_length(s)\n",
    "print(\"The length of String\",result)\n"
   ]
  },
  {
   "cell_type": "code",
   "execution_count": 10,
   "id": "1c858f97-fe6d-418f-80f0-253e1c725db6",
   "metadata": {},
   "outputs": [
    {
     "name": "stdin",
     "output_type": "stream",
     "text": [
      "Enter any String:  my name is lalit\n"
     ]
    },
    {
     "name": "stdout",
     "output_type": "stream",
     "text": [
      "String contains a specific word = is\n"
     ]
    }
   ],
   "source": [
    "#9. Check if a string contains a specific word.\n",
    "word = 'is'\n",
    "string = input(\"Enter any String: \")\n",
    "\n",
    "if word in string:\n",
    "    print(\"String contains a specific word =\", word)\n",
    "else:\n",
    "    print(\"String does not contain the specific word.\")\n"
   ]
  },
  {
   "cell_type": "code",
   "execution_count": 14,
   "id": "8c7be0eb-4b48-4d4c-a88d-d34ee68171cd",
   "metadata": {},
   "outputs": [
    {
     "data": {
      "text/plain": [
       "'myself name is lalit'"
      ]
     },
     "execution_count": 14,
     "metadata": {},
     "output_type": "execute_result"
    }
   ],
   "source": [
    " #10. Replace a word in a string with another word.\n",
    "a=\"my name is lalit\"\n",
    "a.replace('my','myself')"
   ]
  },
  {
   "cell_type": "code",
   "execution_count": 41,
   "id": "9633ca9b-5c5a-41f8-9cae-f0dac9e93b52",
   "metadata": {},
   "outputs": [
    {
     "data": {
      "text/plain": [
       "3"
      ]
     },
     "execution_count": 41,
     "metadata": {},
     "output_type": "execute_result"
    }
   ],
   "source": [
    "# 11. Count the occurrences of a word in a string.\n",
    "a=\"lalit borase lalit ganesh borase lalit\"\n",
    "a.count('lalit')"
   ]
  },
  {
   "cell_type": "code",
   "execution_count": 18,
   "id": "60e714ca-a831-4670-a43f-4deb705455a7",
   "metadata": {},
   "outputs": [
    {
     "data": {
      "text/plain": [
       "0"
      ]
     },
     "execution_count": 18,
     "metadata": {},
     "output_type": "execute_result"
    }
   ],
   "source": [
    "# 12. Find the first occurrence of a word in a string.\n",
    "a=\"lalit is clever than lalit\"\n",
    "a.find('l')"
   ]
  },
  {
   "cell_type": "code",
   "execution_count": 25,
   "id": "33086317-4010-46ce-8a35-0fc1ff8ed879",
   "metadata": {},
   "outputs": [
    {
     "data": {
      "text/plain": [
       "21"
      ]
     },
     "execution_count": 25,
     "metadata": {},
     "output_type": "execute_result"
    }
   ],
   "source": [
    " #13. Find the last occurrence of a word in a string.\n",
    "a=\"lalit is clever than lalit\"\n",
    "a.find('lalit',1)"
   ]
  },
  {
   "cell_type": "code",
   "execution_count": 29,
   "id": "17fc95c9-e9a0-4864-9322-261042de8363",
   "metadata": {},
   "outputs": [
    {
     "name": "stdout",
     "output_type": "stream",
     "text": [
      "['my', 'name', 'is', 'lalit']\n"
     ]
    }
   ],
   "source": [
    "#14. Split a string into a list of words.\n",
    "a=\"my name is lalit\"\n",
    "l=a.split()\n",
    "print(l)"
   ]
  },
  {
   "cell_type": "code",
   "execution_count": 32,
   "id": "ef503530-0fe1-42ba-bdbe-fc65f8f32c6f",
   "metadata": {},
   "outputs": [
    {
     "name": "stdout",
     "output_type": "stream",
     "text": [
      "my name is lalit\n"
     ]
    }
   ],
   "source": [
    "#15. Join a list of words into a string.\n",
    "l1=['my', 'name', 'is', 'lalit']\n",
    "s=\" \".join(l1)\n",
    "print(s)"
   ]
  },
  {
   "cell_type": "code",
   "execution_count": 36,
   "id": "6b82e25b-cca8-451d-96ab-2dda9948ac2a",
   "metadata": {},
   "outputs": [
    {
     "name": "stdout",
     "output_type": "stream",
     "text": [
      "Original string:- my name is lalit\n",
      "Modified string:- my_name_is_lalit\n"
     ]
    }
   ],
   "source": [
    "#16 Convert a string where words are separated by spaces to one where words are separated by underscores.\n",
    "a = \"my name is lalit\"\n",
    "b = a.replace(\" \", \"_\")\n",
    "\n",
    "print(\"Original string:-\",a)\n",
    "print(\"Modified string:-\",b)\n"
   ]
  },
  {
   "cell_type": "code",
   "execution_count": 44,
   "id": "3d3a4da5-fbf6-462b-81c8-15b62b8a77cf",
   "metadata": {},
   "outputs": [
    {
     "name": "stdout",
     "output_type": "stream",
     "text": [
      "it starts with specific word or phrase\n"
     ]
    }
   ],
   "source": [
    "#17 17. Check if a string starts with a specific word or phrase.\n",
    "a=\"my name is lalit\"\n",
    "if a.startswith('my')==True:\n",
    "    print(\"it starts with specific word or phrase\")\n",
    "else:\n",
    "    print(\"not starts with specific word or phrase\")\n"
   ]
  },
  {
   "cell_type": "code",
   "execution_count": 47,
   "id": "4aba36f5-2c98-4a9e-966b-38dc77a0b7e0",
   "metadata": {},
   "outputs": [
    {
     "name": "stdout",
     "output_type": "stream",
     "text": [
      "it ends with specific word or phrase\n"
     ]
    }
   ],
   "source": [
    "#18. Check if a string ends with a specific word or phrase.\n",
    "a=\"my name is lalit\"\n",
    "\n",
    "if a.endswith('lalit')==True:\n",
    "    print(\"it ends with specific word or phrase\")\n",
    "else:\n",
    "    print(\"not ends with specific word or phrase\")\n"
   ]
  },
  {
   "cell_type": "code",
   "execution_count": 48,
   "id": "67c87373-37bf-4046-9919-db15b0898aba",
   "metadata": {},
   "outputs": [
    {
     "data": {
      "text/plain": [
       "'Hello World'"
      ]
     },
     "execution_count": 48,
     "metadata": {},
     "output_type": "execute_result"
    }
   ],
   "source": [
    "#19 19. Convert a string to title case (e.g., \"hello world\" to \"Hello World\").\n",
    "a=\"hello world\"\n",
    "a.title()"
   ]
  },
  {
   "cell_type": "code",
   "execution_count": 75,
   "id": "2d4176ea-9c6e-4234-a07d-9222f8f5751e",
   "metadata": {},
   "outputs": [
    {
     "name": "stdin",
     "output_type": "stream",
     "text": [
      "Enter a String my name is lalitborase\n"
     ]
    },
    {
     "name": "stdout",
     "output_type": "stream",
     "text": [
      "['my', 'name', 'is', 'lalitborase']\n",
      "the longest word in a string is lalitborase\n"
     ]
    }
   ],
   "source": [
    "#20. Find the longest word in a string.\n",
    "input_string = input(\"Enter a String\")\n",
    "l2=[]\n",
    "\n",
    "words = input_string.split()\n",
    "print(words)\n",
    "# Find the longest word\n",
    "for i in words:\n",
    "    l2.append(len(i))\n",
    "a=l2.index(max(l2))\n",
    "print(\"the longest word in a string is\",words[a])\n",
    "\n",
    "\n",
    "\n",
    "\n"
   ]
  },
  {
   "cell_type": "code",
   "execution_count": 79,
   "id": "d192d528-994b-44be-bd49-d2318418d819",
   "metadata": {},
   "outputs": [
    {
     "name": "stdin",
     "output_type": "stream",
     "text": [
      "Enter a String:- my name is lalit\n"
     ]
    },
    {
     "name": "stdout",
     "output_type": "stream",
     "text": [
      "['my', 'name', 'is', 'lalit']\n",
      "the shortest word in a string is: my\n"
     ]
    }
   ],
   "source": [
    "#21. Find the shortest word in a string.\n",
    "input_string = input(\"Enter a String:-\")\n",
    "l2=[]\n",
    "\n",
    "words = input_string.split()\n",
    "print(words)\n",
    "# Find the longest word\n",
    "for i in words:\n",
    "    l2.append(len(i))\n",
    "a=l2.index(min(l2))\n",
    "print(\"the shortest word in a string is:\",words[a])\n"
   ]
  },
  {
   "cell_type": "code",
   "execution_count": 86,
   "id": "37539537-dd76-4be6-a34d-447b8861b206",
   "metadata": {},
   "outputs": [
    {
     "name": "stdin",
     "output_type": "stream",
     "text": [
      "Enter a string lalit ganesh borase\n"
     ]
    },
    {
     "name": "stdout",
     "output_type": "stream",
     "text": [
      "['lalit', 'ganesh', 'borase']\n"
     ]
    },
    {
     "data": {
      "text/plain": [
       "['borase', 'ganesh', 'lalit']"
      ]
     },
     "execution_count": 86,
     "metadata": {},
     "output_type": "execute_result"
    }
   ],
   "source": [
    "#22. Reverse the order of words in a string.\n",
    "s1=input(\"Enter a string\")\n",
    "a=s1.split()\n",
    "print(a)\n",
    "a[::-1]\n"
   ]
  },
  {
   "cell_type": "code",
   "execution_count": null,
   "id": "0e96878b-3bf1-4321-a261-2e095dabc046",
   "metadata": {},
   "outputs": [],
   "source": [
    "#23. Check if a string is alphanumeric."
   ]
  },
  {
   "cell_type": "code",
   "execution_count": 88,
   "id": "7c4bd46d-f396-4ad1-b514-a68b85c23450",
   "metadata": {},
   "outputs": [
    {
     "data": {
      "text/plain": [
       "True"
      ]
     },
     "execution_count": 88,
     "metadata": {},
     "output_type": "execute_result"
    }
   ],
   "source": [
    "a=\"lalit\"\n",
    "a.isalnum()"
   ]
  },
  {
   "cell_type": "code",
   "execution_count": 91,
   "id": "b7b56fa9-7713-4e81-9613-feb394f1b6e6",
   "metadata": {},
   "outputs": [
    {
     "name": "stdout",
     "output_type": "stream",
     "text": [
      "1 2 3 5 0\n"
     ]
    }
   ],
   "source": [
    "#24. Extract all digits from a string.\n",
    "l=\"l1a2l3i5t0\"\n",
    "l1=[]\n",
    "\n",
    "\n",
    "for i in l:\n",
    "    if i.isdigit():\n",
    "        l1.append(i)\n",
    "result=\" \".join(l1)\n",
    "print(result)"
   ]
  },
  {
   "cell_type": "code",
   "execution_count": 92,
   "id": "6665d2cb-cff1-4615-b28c-e18a08051676",
   "metadata": {},
   "outputs": [
    {
     "name": "stdout",
     "output_type": "stream",
     "text": [
      "l a l i t\n"
     ]
    }
   ],
   "source": [
    "#25. Extract all alphabets from a string.\n",
    "l=\"l1a2l3i5t0\"\n",
    "l1=[]\n",
    "\n",
    "\n",
    "for i in l:\n",
    "    if i.isalpha():\n",
    "        l1.append(i)\n",
    "result=\" \".join(l1)\n",
    "print(result)"
   ]
  },
  {
   "cell_type": "code",
   "execution_count": 95,
   "id": "c2769dca-d8a8-4a70-a578-b648b0060365",
   "metadata": {},
   "outputs": [
    {
     "name": "stdout",
     "output_type": "stream",
     "text": [
      "The Number of Uppercase letters in a string 2\n"
     ]
    }
   ],
   "source": [
    "#26. Count the number of uppercase letters in a string.\n",
    "\n",
    "s1=\"Lalit Borase\"\n",
    "count=0\n",
    "for i in s1:\n",
    "    if i.isupper():\n",
    "        count+=1\n",
    "print(\"The Number of Uppercase letters in a string\",count)\n",
    "    "
   ]
  },
  {
   "cell_type": "code",
   "execution_count": 97,
   "id": "06c83c56-8f86-41ee-9378-e9c911ae925a",
   "metadata": {},
   "outputs": [
    {
     "name": "stdout",
     "output_type": "stream",
     "text": [
      "The Number of Lowercase letters in a string 9\n"
     ]
    }
   ],
   "source": [
    "#27. Count the number of lowercase letters in a string.\n",
    "s1=\"Lalit Borase\"\n",
    "count=0\n",
    "for i in s1:\n",
    "    if i.islower():\n",
    "        count+=1\n",
    "print(\"The Number of Lowercase letters in a string\",count)"
   ]
  },
  {
   "cell_type": "code",
   "execution_count": 104,
   "id": "b9c0b258-6ef7-4e11-b9eb-38b219fa7781",
   "metadata": {},
   "outputs": [
    {
     "name": "stdout",
     "output_type": "stream",
     "text": [
      "lAlIt\n"
     ]
    }
   ],
   "source": [
    "#28. Swap the case of each character in a string.\n",
    "s1 = \"LaLiT\"\n",
    "s2 = \"\"\n",
    "\n",
    "for char in s1:\n",
    "    if char.isupper():\n",
    "        s2 += char.lower()\n",
    "    else:\n",
    "        s2 += char.upper()\n",
    "\n",
    "print(s2)\n"
   ]
  },
  {
   "cell_type": "code",
   "execution_count": 117,
   "id": "4e3e14c6-d20a-45d7-854e-0744c45f84e6",
   "metadata": {},
   "outputs": [
    {
     "name": "stdout",
     "output_type": "stream",
     "text": [
      "The original string is: lalit ganesh borase\n",
      "The word remove is: ganesh\n",
      "Result is: lalit borase\n"
     ]
    }
   ],
   "source": [
    "#29. Remove a specific word from a string.\n",
    "s1=\"lalit ganesh borase\"\n",
    "word=\"ganesh\"\n",
    "print(\"The original string is:\",s1)\n",
    "print(\"The word remove is:\",word)\n",
    "a=s1.split()\n",
    "a.remove(word)\n",
    "\n",
    "b=\" \".join(a)\n",
    "print(\"Result is:\",b)"
   ]
  },
  {
   "cell_type": "code",
   "execution_count": 133,
   "id": "da352b4c-5fd8-40af-9b88-6e96ac12bf51",
   "metadata": {},
   "outputs": [
    {
     "name": "stdin",
     "output_type": "stream",
     "text": [
      "Enter a email id lalitborase8@gmail.com\n"
     ]
    },
    {
     "name": "stdout",
     "output_type": "stream",
     "text": [
      "it is valid emailid\n"
     ]
    }
   ],
   "source": [
    "#30. Check if a string is a valid email address.\n",
    "l=['a', 'b', 'c', 'd', 'e', 'f', 'g', 'h', 'i', 'j', 'k', 'l', 'm', 'n', 'o', 'p', 'q', 'r', 's', 't', 'u', 'v', 'w', 'x', 'y', 'z', 'A', 'B', 'C', 'D', 'E', 'F', 'G', 'H', 'I', 'J', 'K', 'L', 'M', 'N', 'O', 'P', 'Q', 'R', 'S', 'T', 'U', 'V', 'W', 'X', 'Y', 'Z', '0', '1', '2', '3', '4', '5', '6', '7', '8', '9']\n",
    "\n",
    "email=input(\"Enter a email id\")\n",
    "#email.endswith('@gmail.com')\n",
    "\n",
    "a=email.find('@')\n",
    "if email[:a] in l or email.endswith('@gmail.com'):\n",
    "    print(\"it is valid emailid\")\n",
    "else:\n",
    "    print(\"not valid emailid\")"
   ]
  },
  {
   "cell_type": "code",
   "execution_count": 4,
   "id": "7d608c1a-54fa-4ed6-b802-53c77dba9519",
   "metadata": {},
   "outputs": [
    {
     "name": "stdin",
     "output_type": "stream",
     "text": [
      "Enter the email-id lalitborase8@gmail.com\n"
     ]
    },
    {
     "name": "stdout",
     "output_type": "stream",
     "text": [
      "username is:- lalitborase8\n"
     ]
    }
   ],
   "source": [
    "#31. Extract the username from an email address string.\n",
    "email=input(\"Enter the email-id\")\n",
    "result=email[:email.find('@')]\n",
    "print(\"username is:-\",result)"
   ]
  },
  {
   "cell_type": "code",
   "execution_count": 3,
   "id": "2c7dc06f-a468-4355-9f1b-c49ee27d3a90",
   "metadata": {},
   "outputs": [
    {
     "name": "stdin",
     "output_type": "stream",
     "text": [
      "Enter the email-id lalitborase8@gmail.com\n"
     ]
    },
    {
     "name": "stdout",
     "output_type": "stream",
     "text": [
      "domain name is:- gmail.com\n"
     ]
    }
   ],
   "source": [
    "# 32. Extract the domain name from an email address string.\n",
    "email=input(\"Enter the email-id\")\n",
    "result=email[email.find('@')+1:]\n",
    "print(\"domain name is:-\",result) "
   ]
  },
  {
   "cell_type": "code",
   "execution_count": 16,
   "id": "e272e516-3219-470c-93e6-fcfee452baee",
   "metadata": {},
   "outputs": [
    {
     "name": "stdout",
     "output_type": "stream",
     "text": [
      "l a l i t <class 'str'>\n"
     ]
    },
    {
     "data": {
      "text/plain": [
       "9"
      ]
     },
     "execution_count": 16,
     "metadata": {},
     "output_type": "execute_result"
    }
   ],
   "source": [
    "#33. Replace multiple spaces in a string with a single space.\n",
    "a = \"       l     a  l    i  t          \"\n",
    "a = ' '.join(a.split())\n",
    "print(a,type(a))\n",
    "len(a)\n",
    "\n"
   ]
  },
  {
   "cell_type": "code",
   "execution_count": 38,
   "id": "21cc13ab-0512-4cb8-913e-718618ce111d",
   "metadata": {},
   "outputs": [
    {
     "name": "stdin",
     "output_type": "stream",
     "text": [
      "Enter a URL:- https.lalit8.in\n"
     ]
    },
    {
     "name": "stdout",
     "output_type": "stream",
     "text": [
      "it is valid\n"
     ]
    }
   ],
   "source": [
    "#34. Check if a string is a valid URL\n",
    "url=input(\"Enter a URL:-\")\n",
    "if (url.startswith('www.') or url.startswith('https.') or url.startswith('http.') ) and (url.endswith('.com') or url.endswith('.in')):\n",
    "    print(\"it is valid\")\n",
    "else:\n",
    "    print(\"it is not valid\")"
   ]
  },
  {
   "cell_type": "code",
   "execution_count": 45,
   "id": "be7e640c-9522-4548-9e5f-f36c73a388ee",
   "metadata": {},
   "outputs": [
    {
     "name": "stdin",
     "output_type": "stream",
     "text": [
      "Enter a URL:- https.lalitborase.com\n"
     ]
    },
    {
     "name": "stdout",
     "output_type": "stream",
     "text": [
      "https\n"
     ]
    }
   ],
   "source": [
    "#35. Extract the protocol (http or https) from a URL string.\n",
    "url=input(\"Enter a URL:-\")\n",
    "if url[:5]=='https':\n",
    "    print(url[:5])\n",
    "elif url[:4]=='http':\n",
    "    print(url[:4])\n"
   ]
  },
  {
   "cell_type": "code",
   "execution_count": 60,
   "id": "d73e2050-9bdc-4c77-9793-044d86cdb8fe",
   "metadata": {},
   "outputs": [
    {
     "name": "stdin",
     "output_type": "stream",
     "text": [
      "Enter a String BORASE\n"
     ]
    },
    {
     "name": "stdout",
     "output_type": "stream",
     "text": [
      "The frequency of 'B' is 1\n",
      "The frequency of 'O' is 1\n",
      "The frequency of 'R' is 1\n",
      "The frequency of 'A' is 1\n",
      "The frequency of 'S' is 1\n",
      "The frequency of 'E' is 1\n"
     ]
    }
   ],
   "source": [
    "#36. Find the frequency of each character in a string.\n",
    "s1 = input(\"Enter a String\")\n",
    "for i in s1:\n",
    "    print(f\"The frequency of '{i}' is {s1.count(i)}\")\n",
    "\n",
    "   \n",
    "    \n",
    "    \n",
    "    \n",
    "    "
   ]
  },
  {
   "cell_type": "code",
   "execution_count": 62,
   "id": "37fa3909-590d-45cb-b6a8-27c5339fd1c0",
   "metadata": {},
   "outputs": [
    {
     "data": {
      "text/plain": [
       "'Hello World'"
      ]
     },
     "execution_count": 62,
     "metadata": {},
     "output_type": "execute_result"
    }
   ],
   "source": [
    "# 37. Remove all punctuation from a string.\n",
    "a=\"Hello! World!!!\"\n",
    "a.replace(\"!\",\"\")"
   ]
  },
  {
   "cell_type": "code",
   "execution_count": 65,
   "id": "2dbaf43e-97bd-4efe-b3be-05f1ca342c1d",
   "metadata": {},
   "outputs": [
    {
     "name": "stdin",
     "output_type": "stream",
     "text": [
      "enter any string 1243\n"
     ]
    },
    {
     "name": "stdout",
     "output_type": "stream",
     "text": [
      "String contains only digits\n"
     ]
    }
   ],
   "source": [
    "#38. Check if a string contains only digits.\n",
    "s1=input(\"enter any string\")\n",
    "if s1.isdigit():\n",
    "    print(\"String contains only digits\")\n",
    "else:\n",
    "    print(\"String not contains only digits\")\n"
   ]
  },
  {
   "cell_type": "code",
   "execution_count": 67,
   "id": "bf293a16-44af-474b-9aab-3987abdc9a9a",
   "metadata": {},
   "outputs": [
    {
     "name": "stdin",
     "output_type": "stream",
     "text": [
      "enter any string lalit\n"
     ]
    },
    {
     "name": "stdout",
     "output_type": "stream",
     "text": [
      "String contains only alphabets\n"
     ]
    }
   ],
   "source": [
    "#39. Check if a string contains only alphabets.\n",
    "s1=input(\"enter any string\")\n",
    "if s1.isalpha():\n",
    "    print(\"String contains only alphabets\")\n",
    "else:\n",
    "    print(\"String not contains only alphabets\")"
   ]
  },
  {
   "cell_type": "code",
   "execution_count": 76,
   "id": "35770c9e-6519-4380-92d6-ce78b077283b",
   "metadata": {},
   "outputs": [
    {
     "name": "stdin",
     "output_type": "stream",
     "text": [
      "Enter a String:  lalit\n"
     ]
    },
    {
     "name": "stdout",
     "output_type": "stream",
     "text": [
      "List of characters: ['l', 'a', 'l', 'i', 't']\n"
     ]
    }
   ],
   "source": [
    "#40. Convert a string to a list of characters.\n",
    "s1 = input(\"Enter a String: \")\n",
    "l1 = list(s1)\n",
    "\n",
    "print(\"List of characters:\", l1)\n",
    "\n"
   ]
  },
  {
   "cell_type": "code",
   "execution_count": 85,
   "id": "0659d6c7-0f25-4d28-b192-2273d3229c39",
   "metadata": {},
   "outputs": [
    {
     "name": "stdin",
     "output_type": "stream",
     "text": [
      "Enter the first string:  lalit\n",
      "Enter the second string:  tilal\n"
     ]
    },
    {
     "name": "stdout",
     "output_type": "stream",
     "text": [
      "lalit and tilal are anagrams.\n"
     ]
    }
   ],
   "source": [
    "# 41. Check if two strings are anagrams.\n",
    "string1 = input(\"Enter the first string: \")\n",
    "string2 = input(\"Enter the second string: \")\n",
    "l1 = list(string1)\n",
    "l2 = list(string2)\n",
    "\n",
    "l1.sort()\n",
    "l2.sort()\n",
    "\n",
    "if l1 == l2:\n",
    "    result = 'anagrams'\n",
    "else:\n",
    "    result = 'not anagrams'\n",
    "\n",
    "print(f\"{string1} and {string2} are {result}.\")\n",
    "\n",
    "\n"
   ]
  },
  {
   "cell_type": "code",
   "execution_count": 91,
   "id": "2fcbdae9-6a09-4d33-8449-0c4a4e71bdad",
   "metadata": {},
   "outputs": [
    {
     "name": "stdin",
     "output_type": "stream",
     "text": [
      "Enter a String:  lalit\n",
      "Enter a Key:  5\n"
     ]
    },
    {
     "name": "stdout",
     "output_type": "stream",
     "text": [
      "The encrypted string is: qfqny\n"
     ]
    }
   ],
   "source": [
    "#42. Encode a string using a Caesar cipher.\n",
    "l1 = ['A', 'B', 'C', 'D', 'E', 'F', 'G', 'H', 'I', 'J', 'K', 'L', 'M', 'N', 'O', 'P', 'Q', 'R', 'S', 'T', 'U', 'V', 'W', 'X', 'Y', 'Z'] + ['a', 'b', 'c', 'd', 'e', 'f', 'g', 'h', 'i', 'j', 'k', 'l', 'm', 'n', 'o', 'p', 'q', 'r', 's', 't', 'u', 'v', 'w', 'x', 'y', 'z']\n",
    "\n",
    "\n",
    "plaintext = input(\"Enter a String: \")\n",
    "key = int(input(\"Enter a Key: \"))\n",
    "\n",
    "cipher_text = ''\n",
    "for char in plaintext:\n",
    "    if char in l1:\n",
    "        index = (l1.index(char) + key) % 52\n",
    "        cipher_text += l1[index]\n",
    "    else:\n",
    "        cipher_text += char\n",
    "\n",
    "print(f\"The encrypted string is: {cipher_text}\")\n"
   ]
  },
  {
   "cell_type": "code",
   "execution_count": 92,
   "id": "8555a1c5-c253-4794-8ca1-8807274b10e7",
   "metadata": {},
   "outputs": [
    {
     "name": "stdin",
     "output_type": "stream",
     "text": [
      "Enter the cipher text to decrypt:  qfqny\n",
      "Enter the key used for encryption:  5\n"
     ]
    },
    {
     "name": "stdout",
     "output_type": "stream",
     "text": [
      "The decrypted string is: lalit\n"
     ]
    }
   ],
   "source": [
    "#43. Decode a Caesar cipher encoded string.\n",
    "l1 = ['A', 'B', 'C', 'D', 'E', 'F', 'G', 'H', 'I', 'J', 'K', 'L', 'M', 'N', 'O', 'P', 'Q', 'R', 'S', 'T', 'U', 'V', 'W', 'X', 'Y', 'Z'] + ['a', 'b', 'c', 'd', 'e', 'f', 'g', 'h', 'i', 'j', 'k', 'l', 'm', 'n', 'o', 'p', 'q', 'r', 's', 't', 'u', 'v', 'w', 'x', 'y', 'z']\n",
    "\n",
    "cipher_text = input(\"Enter the cipher text to decrypt: \")\n",
    "key = int(input(\"Enter the key used for encryption: \"))\n",
    "\n",
    "decoded_text = ''\n",
    "for char in cipher_text:\n",
    "    if char in l1:\n",
    "        index = (l1.index(char) - key) % 52\n",
    "        decoded_text += l1[index]\n",
    "    else:\n",
    "        decoded_text += char\n",
    "\n",
    "print(f\"The decrypted string is: {decoded_text}\")\n"
   ]
  },
  {
   "cell_type": "code",
   "execution_count": 97,
   "id": "6b691709-d8a3-481c-aa62-28ba2d2661ff",
   "metadata": {},
   "outputs": [
    {
     "name": "stdin",
     "output_type": "stream",
     "text": [
      "Enter a String:  lalit\n"
     ]
    },
    {
     "name": "stdout",
     "output_type": "stream",
     "text": [
      "The frequency of 'l' is 2\n",
      "The frequency of 'a' is 1\n",
      "The frequency of 'l' is 2\n",
      "The frequency of 'i' is 1\n",
      "The frequency of 't' is 1\n",
      "In this, the character 'l' has the highest frequency of 2\n"
     ]
    }
   ],
   "source": [
    "#44. Find the most frequent word in a string.\n",
    "s1 = input(\"Enter a String: \")\n",
    "max_char = ''\n",
    "max_frequency = 0\n",
    "\n",
    "for char in s1:\n",
    "    frequency = s1.count(char)\n",
    "    print(f\"The frequency of '{char}' is {frequency}\")\n",
    "\n",
    "    if frequency > max_frequency:\n",
    "        max_char = char\n",
    "        max_frequency = frequency\n",
    "\n",
    "print(f\"In this, the character '{max_char}' has the highest frequency of {max_frequency}\")\n",
    "\n"
   ]
  },
  {
   "cell_type": "code",
   "execution_count": 99,
   "id": "47528c70-8ed5-419f-8406-04c5ce48aedd",
   "metadata": {},
   "outputs": [
    {
     "name": "stdin",
     "output_type": "stream",
     "text": [
      "Enter a String:  lalit borase lalit\n"
     ]
    },
    {
     "name": "stdout",
     "output_type": "stream",
     "text": [
      "Unique words in the string: {'lalit', 'borase'}\n"
     ]
    }
   ],
   "source": [
    "#45. Find all unique words in a string.\n",
    "s1 = input(\"Enter a String: \")\n",
    "unique_words = set(s1.split())\n",
    "print(f\"Unique words in the string: {unique_words}\")\n"
   ]
  },
  {
   "cell_type": "code",
   "execution_count": 101,
   "id": "b74192ed-2f7f-48e7-af10-34e6cf9b7242",
   "metadata": {},
   "outputs": [
    {
     "name": "stdin",
     "output_type": "stream",
     "text": [
      "Enter any String:- l!a@l#i$t%\n"
     ]
    },
    {
     "name": "stdout",
     "output_type": "stream",
     "text": [
      "5\n"
     ]
    }
   ],
   "source": [
    "#46. Count the number of syllables in a string.\n",
    "symbols = ['!', '\"', '#', '$', '%', '&', \"'\", '(', ')', '*', '+', ',', '-', '.', '/', ':', ';', '<', '=', '>', '?', '@', '[', '\\\\', ']', '^', '_', '`', '{', '|', '}', '~']\n",
    "string1=input(\"Enter any String:-\")\n",
    "count_symbols=0\n",
    "for i in string1:\n",
    "    if i in symbols:\n",
    "        count_symbols+=1\n",
    "print(count_symbols)"
   ]
  },
  {
   "cell_type": "code",
   "execution_count": 103,
   "id": "8506ff3c-8b9d-4fee-aaea-086e5cdb25e6",
   "metadata": {},
   "outputs": [
    {
     "name": "stdin",
     "output_type": "stream",
     "text": [
      "Enter any String:  lalit\n"
     ]
    },
    {
     "name": "stdout",
     "output_type": "stream",
     "text": [
      "The string does not contain any special characters.\n"
     ]
    }
   ],
   "source": [
    "#47.Check if a string contains any special characters.\n",
    "symbols = ['!', '\"', '#', '$', '%', '&', \"'\", '(', ')', '*', '+', ',', '-', '.', '/', ':', ';', '<', '=', '>', '?', '@', '[', '\\\\', ']', '^', '_', '`', '{', '|', '}', '~']\n",
    "s1 = input(\"Enter any String: \")\n",
    "\n",
    "a = any(char in symbols for char in s1)\n",
    "\n",
    "if a:\n",
    "    print(\"The string contains special characters.\")\n",
    "else:\n",
    "    print(\"The string does not contain any special characters.\")\n"
   ]
  },
  {
   "cell_type": "code",
   "execution_count": 109,
   "id": "930b0a9f-60bb-46e6-a80a-926e7fe8fab5",
   "metadata": {},
   "outputs": [
    {
     "name": "stdin",
     "output_type": "stream",
     "text": [
      "Enter a String:- lalit\n",
      "Enter the Number:- 3\n"
     ]
    },
    {
     "data": {
      "text/plain": [
       "'lait'"
      ]
     },
     "execution_count": 109,
     "metadata": {},
     "output_type": "execute_result"
    }
   ],
   "source": [
    "#48. Remove the nth word from a string.\n",
    "string=input(\"Enter a String:-\")\n",
    "word_to_remove=int(input(\"Enter the Number:-\"))\n",
    "l1=list(string)\n",
    "l1.pop(word_to_remove-1)\n",
    "\"\".join(l1)"
   ]
  },
  {
   "cell_type": "code",
   "execution_count": 112,
   "id": "fa2b6bc5-eb6c-4556-8205-b66455d0cb69",
   "metadata": {},
   "outputs": [
    {
     "name": "stdin",
     "output_type": "stream",
     "text": [
      "Enter a String:- lait\n",
      "Enter the letter:- l\n",
      "Enter the index:- 3\n"
     ]
    },
    {
     "data": {
      "text/plain": [
       "'lalit'"
      ]
     },
     "execution_count": 112,
     "metadata": {},
     "output_type": "execute_result"
    }
   ],
   "source": [
    "#49. Insert a word at the nth position in a string.\n",
    "string=input(\"Enter a String:-\")\n",
    "word_to_insert=input(\"Enter the letter:-\")\n",
    "index=int(input(\"Enter the index:-\"))\n",
    "l1=list(string)\n",
    "l1.insert(index-1,word_to_insert)\n",
    "\"\".join(l1)"
   ]
  },
  {
   "cell_type": "code",
   "execution_count": 115,
   "id": "e5be0bf2-b967-4c5c-8bfc-1de26a21c082",
   "metadata": {},
   "outputs": [
    {
     "name": "stdin",
     "output_type": "stream",
     "text": [
      "Enter a CSV string:  1,lalit,borase\n"
     ]
    },
    {
     "name": "stdout",
     "output_type": "stream",
     "text": [
      "List of lists:\n",
      "['1', 'lalit', 'borase']\n"
     ]
    }
   ],
   "source": [
    "#50. Convert a CSV string to a list of lists.\n",
    "csv_string = input(\"Enter a CSV string: \")\n",
    "\n",
    "rows = csv_string.split('\\n')\n",
    "\n",
    "csv_list = []\n",
    "\n",
    "for row in rows:\n",
    "    values = row.split(',')\n",
    "    csv_list.append(values)\n",
    "\n",
    "\n",
    "print(\"List of lists:\")\n",
    "for row in csv_list:\n",
    "    print(row)\n"
   ]
  },
  {
   "cell_type": "code",
   "execution_count": null,
   "id": "089daf49-558f-4c30-8f14-8cf1978b52cb",
   "metadata": {},
   "outputs": [],
   "source": [
    "##########################################################################################################################"
   ]
  },
  {
   "cell_type": "code",
   "execution_count": null,
   "id": "bb88fe57-b86c-4112-869e-db9eedcc99ed",
   "metadata": {},
   "outputs": [
    {
     "name": "stdout",
     "output_type": "stream",
     "text": [
      "[1, 2, 3, 4, 5, 6, 7, 8, 9, 10]\n"
     ]
    }
   ],
   "source": [
    "#1.Create a list with integers from 1 to 10.\n",
    "l1=list(range(1,11))\n",
    "print(l1)"
   ]
  },
  {
   "cell_type": "code",
   "execution_count": 5,
   "id": "41f712e5-772a-47d6-83fe-d9f58357bb8d",
   "metadata": {},
   "outputs": [
    {
     "name": "stdout",
     "output_type": "stream",
     "text": [
      "Length of list is:- 7\n"
     ]
    }
   ],
   "source": [
    "#2. Find the length of a list without using the `len()` function.\n",
    "l1=[1,2,3,4,\"lalit\",\"borase\",\"svkm\"]\n",
    "a=0\n",
    "for i in range(len(l1)):\n",
    "    a+=1\n",
    "print(\"Length of list is:-\",count)"
   ]
  },
  {
   "cell_type": "code",
   "execution_count": 6,
   "id": "3ccad800-3eaf-44e4-a55c-4c66c387f243",
   "metadata": {},
   "outputs": [
    {
     "name": "stdout",
     "output_type": "stream",
     "text": [
      "[1, 2, 3, 4, 'lalit', 'borase', 'svkm', 'IOT']\n"
     ]
    }
   ],
   "source": [
    "#3. Append an element to the end of a list.\n",
    "l1.append(\"IOT\")\n",
    "print(l1)"
   ]
  },
  {
   "cell_type": "code",
   "execution_count": 8,
   "id": "90eb8945-3af6-4194-abcc-3f7e5df2cfd7",
   "metadata": {},
   "outputs": [
    {
     "name": "stdout",
     "output_type": "stream",
     "text": [
      "[2, 'Hello', 3, 4, 'lalit', 'borase', 'svkm', 'IOT']\n"
     ]
    }
   ],
   "source": [
    "#4. Insert an element at a specific index in a list.\n",
    "l1.insert(1,\"Hello\")\n",
    "print(l1)"
   ]
  },
  {
   "cell_type": "code",
   "execution_count": 13,
   "id": "955b3e30-fd62-4852-b8fc-36241d20d85f",
   "metadata": {},
   "outputs": [
    {
     "name": "stdout",
     "output_type": "stream",
     "text": [
      "[2, 3, 4, 'lalit', 'borase', 'svkm', 'IOT']\n"
     ]
    }
   ],
   "source": [
    "# 5. Remove an element from a list by its value.\n",
    "l1.remove('Hello')\n",
    "print(l1)"
   ]
  },
  {
   "cell_type": "code",
   "execution_count": 15,
   "id": "f3785ec9-e349-4d5b-a65a-49f4480e632c",
   "metadata": {},
   "outputs": [
    {
     "name": "stdout",
     "output_type": "stream",
     "text": [
      "[2, 4, 'lalit', 'borase', 'svkm', 'IOT']\n"
     ]
    }
   ],
   "source": [
    "#6. Remove an element from a list by its index.\n",
    "l1.pop(1)\n",
    "print(l1)"
   ]
  },
  {
   "cell_type": "code",
   "execution_count": 16,
   "id": "cc73cf17-43d7-4653-88ed-e39e3160aa0a",
   "metadata": {},
   "outputs": [
    {
     "name": "stdout",
     "output_type": "stream",
     "text": [
      "True\n"
     ]
    }
   ],
   "source": [
    "#7. Check if an element exists in a list.\n",
    "l1=[1,2,3,4,\"Lalit\",\"Borase\",\"Jay\"]\n",
    "check_element=\"Lalit\"\n",
    "print(check_element in l1)"
   ]
  },
  {
   "cell_type": "code",
   "execution_count": 21,
   "id": "9cc7c86f-617a-4d97-bc25-9de5f31001da",
   "metadata": {},
   "outputs": [
    {
     "data": {
      "text/plain": [
       "0"
      ]
     },
     "execution_count": 21,
     "metadata": {},
     "output_type": "execute_result"
    }
   ],
   "source": [
    "#8. Find the index of the first occurrence of an element in a list.\n",
    "l1=[1,2,3,4,1,2,3,4]\n",
    "l1.index(1)"
   ]
  },
  {
   "cell_type": "code",
   "execution_count": 22,
   "id": "9c22e3a4-3d27-4fdc-82a8-c953740ee065",
   "metadata": {},
   "outputs": [
    {
     "data": {
      "text/plain": [
       "3"
      ]
     },
     "execution_count": 22,
     "metadata": {},
     "output_type": "execute_result"
    }
   ],
   "source": [
    "#9. Count the occurrences of an element in a list.\n",
    "l1=[1,2,3,4,1,2,1]\n",
    "l1.count(1)"
   ]
  },
  {
   "cell_type": "code",
   "execution_count": 23,
   "id": "5f09d708-7630-400e-b843-02a872617559",
   "metadata": {},
   "outputs": [
    {
     "data": {
      "text/plain": [
       "[1, 2, 1, 4, 3, 2, 1]"
      ]
     },
     "execution_count": 23,
     "metadata": {},
     "output_type": "execute_result"
    }
   ],
   "source": [
    "#10. Reverse the order of elements in a list\n",
    "l1[::-1]"
   ]
  },
  {
   "cell_type": "code",
   "execution_count": 25,
   "id": "a435c4f2-4b42-47b7-803f-c861d80694af",
   "metadata": {},
   "outputs": [
    {
     "name": "stdout",
     "output_type": "stream",
     "text": [
      "[0, 1, 1, 2, 2, 3, 4, 9]\n"
     ]
    }
   ],
   "source": [
    "#11. Sort a list in ascending order.\n",
    "l1=[1,4,2,9,0,3,2,1]\n",
    "l1.sort()\n",
    "print(l1)"
   ]
  },
  {
   "cell_type": "code",
   "execution_count": 28,
   "id": "92a6afe9-7000-4c3d-bbdc-3d122c973e73",
   "metadata": {},
   "outputs": [
    {
     "name": "stdout",
     "output_type": "stream",
     "text": [
      "[9, 4, 3, 2, 2, 1, 1, 0]\n"
     ]
    }
   ],
   "source": [
    "#12. Sort a list in descending order.\n",
    "l1=[1,4,2,9,0,3,2,1]\n",
    "l1.sort(reverse=True)\n",
    "print(l1)"
   ]
  },
  {
   "cell_type": "code",
   "execution_count": 49,
   "id": "c394ef97-e51d-46b7-a222-86952be81cb3",
   "metadata": {},
   "outputs": [
    {
     "name": "stdout",
     "output_type": "stream",
     "text": [
      "The List of even numbers from 1 to 20 [2, 4, 6, 8, 10, 12, 14, 16, 18, 20]\n"
     ]
    }
   ],
   "source": [
    "#13. Create a list of even numbers from 1 to 20.\n",
    "l1=list(range(1,21))\n",
    "\n",
    "l2=[]\n",
    "for i in l1:\n",
    "    if i%2==0:\n",
    "        l2.append(i)\n",
    "    else:pass\n",
    "print(\"The List of even numbers from 1 to 20\",l2)\n"
   ]
  },
  {
   "cell_type": "code",
   "execution_count": 52,
   "id": "acaf2991-4ad9-4a27-ad93-73ccd1da470b",
   "metadata": {},
   "outputs": [
    {
     "name": "stdout",
     "output_type": "stream",
     "text": [
      "The List of odd numbers from 1 to 20 [1, 3, 5, 7, 9, 11, 13, 15, 17, 19]\n"
     ]
    }
   ],
   "source": [
    "#14. Create a list of odd numbers from 1 to 20.\n",
    "l1=list(range(1,21))\n",
    "\n",
    "l2=[]\n",
    "for i in l1:\n",
    "    if i%2!=0:\n",
    "        l2.append(i)\n",
    "    else:pass\n",
    "print(\"The List of odd numbers from 1 to 20\",l2)\n"
   ]
  },
  {
   "cell_type": "code",
   "execution_count": 55,
   "id": "08941431-5625-4416-89c6-a3129f3fe787",
   "metadata": {},
   "outputs": [
    {
     "name": "stdout",
     "output_type": "stream",
     "text": [
      "The sum of all elements from list l1 is :- 100\n"
     ]
    }
   ],
   "source": [
    "#15. Find the sum of all elements in a list.\n",
    "l1=[1, 3, 5, 7, 9, 11, 13, 15, 17, 19]\n",
    "list_sum=0\n",
    "for i in range(len(l1)):\n",
    "    list_sum+=l1[i]\n",
    "print(\"The sum of all elements from list l1 is :-\",list_sum)"
   ]
  },
  {
   "cell_type": "code",
   "execution_count": 58,
   "id": "6e0dc3c1-ebb7-4275-b342-17fe748044b4",
   "metadata": {},
   "outputs": [
    {
     "name": "stdout",
     "output_type": "stream",
     "text": [
      "Maximum element from the list l1 is:- 19\n"
     ]
    }
   ],
   "source": [
    "#16. Find the maximum value in a list.\n",
    "l1=[1, 3, 5, 7, 9, 11, 13, 15, 17, 19]\n",
    "max=l1[0]\n",
    "for i in range(len(l1)):\n",
    "    if l1[i]>max:\n",
    "        max=l1[i]\n",
    "    else:pass\n",
    "print(\"Maximum element from the list l1 is:-\",max)"
   ]
  },
  {
   "cell_type": "code",
   "execution_count": 62,
   "id": "44fe887d-aaa1-43ef-bd5e-2c7f0f6a70fe",
   "metadata": {},
   "outputs": [
    {
     "name": "stdout",
     "output_type": "stream",
     "text": [
      "Minimum element from the list l1 is:- 1\n"
     ]
    }
   ],
   "source": [
    "#17. Find the minimum value in a list.\n",
    "l1=[ 3, 5, 7,1, 9, 11, 13, 15, 17, 19]\n",
    "min_=l1[0]\n",
    "for i in range(len(l1)):\n",
    "    if l1[i]<min_:\n",
    "        min_=l1[i]\n",
    "    else:\n",
    "        max=l1[0]\n",
    "print(\"Minimum element from the list l1 is:-\",min_)"
   ]
  },
  {
   "cell_type": "code",
   "execution_count": 76,
   "id": "16619e68-9ed6-4218-be58-48146c27fc5c",
   "metadata": {},
   "outputs": [
    {
     "name": "stdout",
     "output_type": "stream",
     "text": [
      "[1, 4, 9, 16, 25, 36, 49, 64, 81, 100]\n"
     ]
    }
   ],
   "source": [
    "#18. Create a list of squares of numbers from 1 to 10.\n",
    "l1=list(range(1,11))\n",
    "\n",
    "for i in l1:\n",
    "    l1[i-1]=i*i\n",
    "print(l1)\n",
    "    "
   ]
  },
  {
   "cell_type": "code",
   "execution_count": 4,
   "id": "ad62d35c-d5db-4ac1-8956-6571f012647a",
   "metadata": {},
   "outputs": [],
   "source": [
    "#19. Create a list of random numbers.\n",
    "x=[1,11,22.2,44,12,89,10,9.13]"
   ]
  },
  {
   "cell_type": "code",
   "execution_count": 12,
   "id": "cbf03d64-2d28-4df1-9101-73066c98d1c3",
   "metadata": {},
   "outputs": [
    {
     "name": "stdout",
     "output_type": "stream",
     "text": [
      "[1, 2, 3, 4, 'lalit', 'borase']\n"
     ]
    }
   ],
   "source": [
    "#20. Remove duplicates from a list.\n",
    "def remove_duplicates(l1):\n",
    "    result = []\n",
    "    for i in range(len(l1)):\n",
    "        if l1[i] not in result:\n",
    "            result.append(l1[i])\n",
    "    print(result)\n",
    "\n",
    "l1 = [1, 2, 3, 4, 1, 2, \"lalit\", \"borase\", \"lalit\"]\n",
    "remove_duplicates(l1)\n"
   ]
  },
  {
   "cell_type": "code",
   "execution_count": 8,
   "id": "1ac61d7c-39e4-46ca-87f9-7050066316d5",
   "metadata": {},
   "outputs": [
    {
     "name": "stdout",
     "output_type": "stream",
     "text": [
      "lalit\n",
      "lalit\n"
     ]
    }
   ],
   "source": [
    "#21. Find the common elements between two lists.\n",
    "def find_common(l1,l2):\n",
    "    l3=l1+l2\n",
    "    for i in range(len(l3)):\n",
    "        if  l3.count(l3[i]) > 1:\n",
    "            print(l3[i])\n",
    "           \n",
    "\n",
    "\n",
    "l1=[1,2,3,4,5,\"lalit\"]\n",
    "l2=[\"lalit\",\"ganesh\",\"borase\"]\n",
    "find_common(l1,l2)"
   ]
  },
  {
   "cell_type": "code",
   "execution_count": 11,
   "id": "e9217897-e911-4a65-8e44-afba52383941",
   "metadata": {},
   "outputs": [
    {
     "name": "stdout",
     "output_type": "stream",
     "text": [
      "1\n",
      "2\n",
      "3\n",
      "4\n",
      "5\n",
      "ganesh\n",
      "borase\n"
     ]
    }
   ],
   "source": [
    "# 22. Find the difference between two lists.\n",
    "def find_common(l1,l2):\n",
    "    l3=l1+l2\n",
    "    for i in range(len(l3)):\n",
    "        if  l3.count(l3[i])== 1:\n",
    "            print(l3[i])\n",
    "           \n",
    "\n",
    "\n",
    "l1=[1,2,3,4,5,\"lalit\"]\n",
    "l2=[\"lalit\",\"ganesh\",\"borase\"]\n",
    "find_common(l1,l2)"
   ]
  },
  {
   "cell_type": "code",
   "execution_count": 12,
   "id": "e30acb26-180b-44fc-a423-4456acf4b135",
   "metadata": {},
   "outputs": [
    {
     "name": "stdout",
     "output_type": "stream",
     "text": [
      "[1, 2, 3, 4, 5, 'lalit', 'lalit', 'ganesh', 'borase']\n"
     ]
    }
   ],
   "source": [
    "#23. Merge two lists.\n",
    "l1=[1,2,3,4,5,\"lalit\"]\n",
    "l2=[\"lalit\",\"ganesh\",\"borase\"]\n",
    "l3=l1+l2\n",
    "print(l3)"
   ]
  },
  {
   "cell_type": "code",
   "execution_count": 15,
   "id": "9ce98f2f-7952-4a4b-a42f-b04393f238ab",
   "metadata": {},
   "outputs": [
    {
     "name": "stdout",
     "output_type": "stream",
     "text": [
      "[1, 2, 3, 4, 5, 6, 7, 8, 9, 10]\n",
      "[2, 4, 6, 8, 10, 12, 14, 16, 18, 20]\n"
     ]
    }
   ],
   "source": [
    "# 24. Multiply all elements in a list by 2.\n",
    "l1=[1,2,3,4,5,6,7,8,9,10]\n",
    "l2=[x*2 for x in l1 ]\n",
    "print(l1)\n",
    "print(l2)"
   ]
  },
  {
   "cell_type": "code",
   "execution_count": 18,
   "id": "ec9711f1-c58f-462a-804a-f87e60853064",
   "metadata": {},
   "outputs": [
    {
     "name": "stdout",
     "output_type": "stream",
     "text": [
      "[1, 2, 3, 4, 5, 6, 7, 8, 9, 10]\n",
      "[2, 4, 6, 8, 10]\n"
     ]
    }
   ],
   "source": [
    "#25. Filter out all even numbers from a list.\n",
    "l1=[1,2,3,4,5,6,7,8,9,10]\n",
    "l2=[x for x in l1 if x%2==0]\n",
    "print(l1)\n",
    "print(l2)"
   ]
  },
  {
   "cell_type": "code",
   "execution_count": 24,
   "id": "2c34da45-87d7-4f3f-a1de-9a7282761184",
   "metadata": {},
   "outputs": [
    {
     "name": "stdout",
     "output_type": "stream",
     "text": [
      "1,23,12,11,4,55 <class 'str'>\n",
      "[1, 23, 12, 11, 4, 55] <class 'list'>\n"
     ]
    }
   ],
   "source": [
    "#26. Convert a list of strings to a list of integers.\n",
    "l1=\"1,23,12,11,4,55\"\n",
    "l2=[int(x) for x in l1.split(',')]\n",
    "print(l1,type(l1))\n",
    "print(l2,type(l2))"
   ]
  },
  {
   "cell_type": "code",
   "execution_count": 28,
   "id": "ff03887a-8234-4f66-811f-991b72846004",
   "metadata": {},
   "outputs": [
    {
     "name": "stdout",
     "output_type": "stream",
     "text": [
      "[1, 23, 12, 11, 4, 55] <class 'list'>\n",
      "['1', '23', '12', '11', '4', '55'] <class 'list'>\n"
     ]
    }
   ],
   "source": [
    "#27. Convert a list of integers to a list of strings.\n",
    "l1 = [1, 23, 12, 11, 4, 55]\n",
    "l2 = [str(x) for x in l1]\n",
    "\n",
    "print(l1, type(l1))\n",
    "print(l2, type(l2))"
   ]
  },
  {
   "cell_type": "code",
   "execution_count": 1,
   "id": "65ede5c8-029f-42c3-85d1-2c552f2c4929",
   "metadata": {},
   "outputs": [
    {
     "name": "stdout",
     "output_type": "stream",
     "text": [
      "Flattened list: [1, 2, 3, 4, 5, 6, 7, 8, 9]\n"
     ]
    }
   ],
   "source": [
    "#28. Flatten a nested list.\n",
    "nested_list = [[1, 2, 3], [4, 5], [6, 7, 8, 9]]\n",
    "\n",
    "# Function to flatten a nested list\n",
    "def flatten_list(nested):\n",
    "    flattened = []\n",
    "    for sublist in nested:\n",
    "        if isinstance(sublist, list):\n",
    "            flattened.extend(flatten_list(sublist))\n",
    "        else:\n",
    "            flattened.append(sublist)\n",
    "    return flattened\n",
    "\n",
    "# Flatten the nested list\n",
    "flattened_list = flatten_list(nested_list)\n",
    "\n",
    "# Print the flattened list\n",
    "print(\"Flattened list:\", flattened_list)"
   ]
  },
  {
   "cell_type": "code",
   "execution_count": 3,
   "id": "5a03ccba-9ed7-4ef5-b651-5e13f1370784",
   "metadata": {},
   "outputs": [
    {
     "name": "stdout",
     "output_type": "stream",
     "text": [
      "[0, 1, 1, 2, 3, 5, 8, 13, 21, 34]\n"
     ]
    }
   ],
   "source": [
    "#29. Create a list of the first 10 Fibonacci numbers.\n",
    "i, j = 0, 1\n",
    "fibonacci_numbers = [i]\n",
    "\n",
    "\n",
    "for a in range(9):\n",
    "    i, j = j, i + j\n",
    "    fibonacci_numbers.append(i)\n",
    "\n",
    "print(fibonacci_numbers)\n"
   ]
  },
  {
   "cell_type": "code",
   "execution_count": 23,
   "id": "5c270428-44dd-469a-9e15-94066f8599b7",
   "metadata": {},
   "outputs": [
    {
     "name": "stdout",
     "output_type": "stream",
     "text": [
      "The List is Not Sorted\n"
     ]
    }
   ],
   "source": [
    "#30. Check if a list is sorted.\n",
    "l1 = [9, 7, 5, 3, 1,11]\n",
    "sorted_l1 = sorted(l1)\n",
    "sorted_l2 = sorted(l1, reverse=True)\n",
    "\n",
    "if l1 == sorted_l1:\n",
    "    print(\"The List is Sorted in Ascending Order\")\n",
    "elif l1 == sorted_l2:\n",
    "    print(\"The List is Sorted in Descending Order\")\n",
    "else:\n",
    "    print(\"The List is Not Sorted\")\n",
    "\n"
   ]
  },
  {
   "cell_type": "code",
   "execution_count": 27,
   "id": "d3f76255-bde1-432a-a5cc-f0e92e857874",
   "metadata": {},
   "outputs": [
    {
     "data": {
      "text/plain": [
       "[3, 4, 5, 6, 7, 1, 2]"
      ]
     },
     "execution_count": 27,
     "metadata": {},
     "output_type": "execute_result"
    }
   ],
   "source": [
    "#31. Rotate a list to the left by `n` positions.\n",
    "def rotate_list(l1,n):\n",
    "    n=n%len(l1)\n",
    "    new_lst=l1[n:]+l1[:n]\n",
    "    return new_lst\n",
    "l1=[1,2,3,4,5,6,7]\n",
    "n=2\n",
    "rotate_list(l1,n)"
   ]
  },
  {
   "cell_type": "code",
   "execution_count": 30,
   "id": "c7a847f7-5d8e-4867-9b8a-f599e7dd2ba6",
   "metadata": {},
   "outputs": [
    {
     "data": {
      "text/plain": [
       "[6, 7, 1, 2, 3, 4, 5]"
      ]
     },
     "execution_count": 30,
     "metadata": {},
     "output_type": "execute_result"
    }
   ],
   "source": [
    "#32. Rotate a list to the right by `n` positions.\n",
    "def rotate_list(l1,n):\n",
    "    n=n%len(l1)\n",
    "    new_lst=l1[-n:]+l1[:-n]\n",
    "    return new_lst\n",
    "l1=[1,2,3,4,5,6,7]\n",
    "n=2\n",
    "rotate_list(l1,n)"
   ]
  },
  {
   "cell_type": "code",
   "execution_count": 31,
   "id": "1a9c39df-a771-438e-a2c4-596099cdb612",
   "metadata": {},
   "outputs": [
    {
     "name": "stdout",
     "output_type": "stream",
     "text": [
      "[2, 3, 5, 7, 11, 13, 17, 19, 23, 29, 31, 37, 41, 43, 47]\n"
     ]
    }
   ],
   "source": [
    "#33. Create a list of prime numbers up to 50.\n",
    "def is_prime(num):\n",
    "    if num < 2:\n",
    "        return False\n",
    "    for i in range(2, int(num**0.5) + 1):\n",
    "        if num % i == 0:\n",
    "            return False\n",
    "    return True\n",
    "\n",
    "prime_numbers = [x for x in range(2, 51) if is_prime(x)]\n",
    "print(prime_numbers)\n"
   ]
  },
  {
   "cell_type": "code",
   "execution_count": 32,
   "id": "57b07f51-60bd-4e49-b84c-2c2e7c50ffb9",
   "metadata": {},
   "outputs": [
    {
     "name": "stdout",
     "output_type": "stream",
     "text": [
      "[[1, 2, 3], [4, 5, 6], [7, 8, 9], [10]]\n"
     ]
    }
   ],
   "source": [
    "#34. Split a list into chunks of size `n`.\n",
    "def split_into_chunks(lst, n):\n",
    "    return [lst[i:i+n] for i in range(0, len(lst), n)]\n",
    "\n",
    "# Example usage:\n",
    "my_list = [1, 2, 3, 4, 5, 6, 7, 8, 9, 10]\n",
    "chunk_size = 3\n",
    "result = split_into_chunks(my_list, chunk_size)\n",
    "\n",
    "print(result)\n"
   ]
  },
  {
   "cell_type": "code",
   "execution_count": 35,
   "id": "cc92bdee-be2c-4b79-b3be-b56d190f7f62",
   "metadata": {},
   "outputs": [
    {
     "name": "stdout",
     "output_type": "stream",
     "text": [
      "Second Largest Number in a l1:- 99\n"
     ]
    }
   ],
   "source": [
    "#35. Find the second largest number in a list.\n",
    "l1=[55,44,11,22,33,99,111]\n",
    "sorted(l1)\n",
    "print(\"Second Largest Number in a l1:-\",l1[-2])"
   ]
  },
  {
   "cell_type": "code",
   "execution_count": 37,
   "id": "d7cb2101-17c4-4ab6-a0c9-fdfa465cec2f",
   "metadata": {},
   "outputs": [
    {
     "name": "stdout",
     "output_type": "stream",
     "text": [
      "[1, 2, 3, 4, 5, 6, 7, 8, 9, 10]\n",
      "[1, 4, 9, 16, 25, 36, 49, 64, 81, 100]\n"
     ]
    }
   ],
   "source": [
    "#36. Replace every element in a list with its square.\n",
    "l1=[1,2,3,4,5,6,7,8,9,10]\n",
    "l2=[x**2 for x in l1]\n",
    "print(l1)\n",
    "print(l2)"
   ]
  },
  {
   "cell_type": "code",
   "execution_count": 38,
   "id": "87740ed8-b9b3-40a3-bb2f-aad3ff7d523f",
   "metadata": {},
   "outputs": [
    {
     "name": "stdout",
     "output_type": "stream",
     "text": [
      "{11: 0, 22: 1, 33: 2, 44: 3, 55: 4}\n"
     ]
    }
   ],
   "source": [
    "#37. Convert a list to a dictionary where list elements become keys and their\n",
    "#indices become values.\n",
    "l1 = [11, 22, 33, 44, 55]\n",
    "d1 = {value: index for index, value in enumerate(l1)}\n",
    "print(d1)\n"
   ]
  },
  {
   "cell_type": "code",
   "execution_count": 41,
   "id": "ba084494-fb33-4cd5-a3a5-ed9f30e66bb5",
   "metadata": {},
   "outputs": [
    {
     "name": "stdout",
     "output_type": "stream",
     "text": [
      "Shuffled list: [5, 3, 1, 4, 9, 7, 10, 2, 6, 8]\n"
     ]
    }
   ],
   "source": [
    "#38. Shuffle the elements of a list randomly.\n",
    "import random\n",
    "\n",
    "\n",
    "my_list = [1, 2, 3, 4, 5, 6, 7, 8, 9, 10]\n",
    "random.shuffle(my_list)\n",
    "print(\"Shuffled list:\", my_list)"
   ]
  },
  {
   "cell_type": "code",
   "execution_count": 42,
   "id": "7bd94950-15ad-4a56-9c76-30eebc92b5e1",
   "metadata": {},
   "outputs": [
    {
     "name": "stdout",
     "output_type": "stream",
     "text": [
      "[1, 1, 2, 6, 24, 120, 720, 5040, 40320, 362880]\n"
     ]
    }
   ],
   "source": [
    "#39. Create a list of the first 10 factorial numbers.\n",
    "def factorial(n):\n",
    "    if n == 0 or n == 1:\n",
    "        return 1\n",
    "    else:\n",
    "        return n * factorial(n - 1)\n",
    "\n",
    "factorial_numbers = [factorial(i) for i in range(10)]\n",
    "\n",
    "print(factorial_numbers)\n"
   ]
  },
  {
   "cell_type": "code",
   "execution_count": 43,
   "id": "5c629ae5-4263-4969-9c71-6c73ccb36fb6",
   "metadata": {},
   "outputs": [
    {
     "name": "stdout",
     "output_type": "stream",
     "text": [
      "The lists have exactly one common element.\n"
     ]
    }
   ],
   "source": [
    "#40. Check if two lists have at least one element in common.\n",
    "# Example lists\n",
    "list1 = [1, 2, 3, 4, 5]\n",
    "list2 = [5, 6, 7, 8, 9]\n",
    "\n",
    "# Check if there is exactly one common element using a loop\n",
    "common_elements = [item for item in list2 if item in list1]\n",
    "\n",
    "if len(common_elements) == 1:\n",
    "    print(\"The lists have exactly one common element.\")\n",
    "else:\n",
    "    print(\"The lists do not have exactly one common element.\")\n"
   ]
  },
  {
   "cell_type": "code",
   "execution_count": 9,
   "id": "25d3d1f3-afa7-4d86-ab6b-96fa85173c06",
   "metadata": {},
   "outputs": [
    {
     "name": "stdout",
     "output_type": "stream",
     "text": [
      "[]\n"
     ]
    }
   ],
   "source": [
    "#41. Remove all elements from a list.\n",
    "def remove_elements(l1):\n",
    "    for i in l1:\n",
    "        l1.clear()\n",
    "    print(l1)\n",
    "        \n",
    "l1=[11,22,33,44,55]\n",
    "remove_elements(l1)"
   ]
  },
  {
   "cell_type": "code",
   "execution_count": 13,
   "id": "f26dd5b1-9f25-4c0e-b3e6-c2af9118ed26",
   "metadata": {},
   "outputs": [
    {
     "name": "stdout",
     "output_type": "stream",
     "text": [
      "[0, 4, 0, 1]\n"
     ]
    }
   ],
   "source": [
    "#42. Replace negative numbers in a list with 0.\n",
    "def replace_neg0(l1):\n",
    "    for i in range(len(l1)):\n",
    "        if l1[i] < 0:\n",
    "            l1[i] = 0\n",
    "    print(l1)\n",
    "\n",
    "l1 = [-2, 4, -5, 1]\n",
    "replace_neg0(l1)\n"
   ]
  },
  {
   "cell_type": "code",
   "execution_count": 16,
   "id": "96dfea9d-bf1c-4e9f-96d0-802bfefd1c51",
   "metadata": {},
   "outputs": [
    {
     "name": "stdout",
     "output_type": "stream",
     "text": [
      "['lalit', 'ganesh', 'borase']\n",
      "<class 'list'>\n"
     ]
    }
   ],
   "source": [
    "#43. Convert a string into a list of words.\n",
    "s1=\"lalit ganesh borase\"\n",
    "l1=s1.split()\n",
    "print(l1)\n",
    "print(type(l1))"
   ]
  },
  {
   "cell_type": "code",
   "execution_count": 33,
   "id": "3d5588f8-da83-42a9-b910-b36463b6c1c1",
   "metadata": {},
   "outputs": [
    {
     "name": "stdout",
     "output_type": "stream",
     "text": [
      "lalit ganesh borase\n",
      "lalit ganesh borase <class 'str'>\n"
     ]
    }
   ],
   "source": [
    "# 44. Convert a list of words into a string.\n",
    "l1=[\"lalit\",\"ganesh\",\"borase\"]\n",
    "a=\" \".join(l1)\n",
    "print(a,type(a))"
   ]
  },
  {
   "cell_type": "code",
   "execution_count": 35,
   "id": "1636fddd-ec4e-4e22-8fec-49f1e7d2442d",
   "metadata": {},
   "outputs": [
    {
     "name": "stdout",
     "output_type": "stream",
     "text": [
      "[0, 1, 4, 9, 16]\n"
     ]
    }
   ],
   "source": [
    "# 45. Create a list of the first `n` powers of 2.\n",
    "def power_of_two(n):\n",
    "    l1=[i**2 for i in range(n)]\n",
    "    print(l1)\n",
    "power_of_two(5)"
   ]
  },
  {
   "cell_type": "code",
   "execution_count": 44,
   "id": "e52d9eca-c1a8-4c3a-8b7b-e7c9044b93e6",
   "metadata": {},
   "outputs": [
    {
     "name": "stdout",
     "output_type": "stream",
     "text": [
      "fromdhule\n"
     ]
    }
   ],
   "source": [
    "# 46. Find the longest string in a list of strings.\n",
    "def longest_string(l1):\n",
    "    longeststr=l1[0]\n",
    "    for i in range(len(l1)-1):\n",
    "        if len(l1[i])<len(l1[i+1]):\n",
    "                          longeststr=l1[i+1]\n",
    "    print(longeststr)\n",
    "                          \n",
    "    \n",
    "l1=[\"lalit\",\"ganesh\",\"borase\",\"fromdhule\"]\n",
    "longest_string(l1)"
   ]
  },
  {
   "cell_type": "code",
   "execution_count": 48,
   "id": "a23962b7-28c4-4706-b602-90307891983f",
   "metadata": {},
   "outputs": [
    {
     "name": "stdout",
     "output_type": "stream",
     "text": [
      "jay\n"
     ]
    }
   ],
   "source": [
    "#47. Find the shortest string in a list of strings.\n",
    "def short_string(l1):\n",
    "    shortstr=l1[0]\n",
    "    for i in range(len(l1)-1):\n",
    "        if len(l1[i])>len(l1[i+1]):\n",
    "                          shortstr=l1[i+1]\n",
    "        \n",
    "    print(shortstr)\n",
    "                          \n",
    "    \n",
    "l1=[\"lalit\",\"ganesh\",\"borase\",\"jay\",\"fromdhule\"]\n",
    "short_string(l1)"
   ]
  },
  {
   "cell_type": "code",
   "execution_count": 64,
   "id": "7434f560-945f-4acf-963e-f8557c723ec2",
   "metadata": {},
   "outputs": [
    {
     "name": "stdout",
     "output_type": "stream",
     "text": [
      "[1, 3, 6, 10, 15]\n"
     ]
    }
   ],
   "source": [
    "#48.Create a list of the first `n` triangular numbers.\n",
    "l2=[]\n",
    "def triangular_numbers(n):\n",
    "    for i in range(1,n+1):\n",
    "        result=i*(i+1)//2\n",
    "        l2.append(result)\n",
    "    print(l2)\n",
    "triangular_numbers(5)\n",
    "        \n",
    "        \n",
    "        "
   ]
  },
  {
   "cell_type": "code",
   "execution_count": 94,
   "id": "cd15fd6a-63ae-4bc6-8e30-7ca3a0f945ac",
   "metadata": {},
   "outputs": [
    {
     "name": "stdout",
     "output_type": "stream",
     "text": [
      "[1, 23, [1, 2, 3]] <class 'str'>\n",
      "List contais another list as a subsequence\n"
     ]
    }
   ],
   "source": [
    "# 49. Check if a list contains another list as a subsequence.\n",
    "def check_sublist(l1):\n",
    "    \n",
    "    s1=str(l1)\n",
    "    print(s1,type(s1))\n",
    "    for i in s1:\n",
    "        a= s1.count(\"[\")\n",
    "    if a==2:\n",
    "        print(\"List contais another list as a subsequence\")\n",
    "    else:\n",
    "        print(\"List not contains another subsequence\")\n",
    "l1=[1,23,[1,2,3]]\n",
    "check_sublist(l1)"
   ]
  },
  {
   "cell_type": "code",
   "execution_count": 96,
   "id": "18f75a30-7ce4-434c-b2a6-a22b6dbd79b0",
   "metadata": {},
   "outputs": [
    {
     "name": "stdout",
     "output_type": "stream",
     "text": [
      "[55, 22, 33, 44, 11]\n"
     ]
    }
   ],
   "source": [
    "#50. Swap two elements in a list by their indices.\n",
    "def swap_elements(l1,a,b):\n",
    "        l1[a],l1[b]=l1[b],l1[a]\n",
    "print(l1)\n",
    "l1=[11,22,33,44,55]\n",
    "swap_elements(l1,0,4)"
   ]
  },
  {
   "cell_type": "code",
   "execution_count": null,
   "id": "385630af-a23e-424e-9ccc-51a1f24fd6e1",
   "metadata": {},
   "outputs": [],
   "source": [
    " 1. Create a tuple with integers from 1 to 5.\n",
    " 2. Access the third element of a tuple.\n",
    " 3. Find the length of a tuple without using the `len()` function.\n",
    " 4. Count the occurrences of an element in a tuple.\n",
    " 5. Find the index of the first occurrence of an element in a tuple.\n",
    " 6. Check if an element exists in a tuple.\n",
    " 7. Convert a tuple to a list.\n",
    " 8. Convert a list to a tuple.\n",
    " 9. Unpack the elements of a tuple into variables.\n",
    " 10. Create a tuple of even numbers from 1 to 10.\n",
    " 11. Create a tuple of odd numbers from 1 to 10.\n",
    " 12. Concatenate two tuples.\n",
    " 13. Repeat a tuple three times.\n",
    " 14. Check if a tuple is empty.\n",
    " 15. Create a nested tuple.\n",
    " 16. Access the first element of a nested tuple\n",
    " 17. Create a tuple with a single element.\n",
    " 18. Compare two tuples.\n",
    " 19. Delete a tuple.\n",
    " 20. Slice a tuple\n"
   ]
  }
 ],
 "metadata": {
  "kernelspec": {
   "display_name": "Python 3 (ipykernel)",
   "language": "python",
   "name": "python3"
  },
  "language_info": {
   "codemirror_mode": {
    "name": "ipython",
    "version": 3
   },
   "file_extension": ".py",
   "mimetype": "text/x-python",
   "name": "python",
   "nbconvert_exporter": "python",
   "pygments_lexer": "ipython3",
   "version": "3.10.8"
  }
 },
 "nbformat": 4,
 "nbformat_minor": 5
}
